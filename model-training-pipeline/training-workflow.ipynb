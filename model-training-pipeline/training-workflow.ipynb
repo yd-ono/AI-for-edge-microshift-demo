{
 "cells": [
  {
   "attachments": {},
   "cell_type": "markdown",
   "id": "31234152-0cd6-40d8-87d7-63ff9ab4fd63",
   "metadata": {},
   "source": [
    "### パッケージ、環境変数をロード\n",
    "MLモデルの学習とモデルのアップロード先を指定します。"
   ]
  },
  {
   "cell_type": "code",
   "execution_count": null,
   "id": "7b462041-7a56-4a14-ae24-283c31b8dfae",
   "metadata": {},
   "outputs": [],
   "source": [
    "from model_training import (\n",
    "    scan_images_folder, load_and_encode, package, dump_model_package)\n",
    "from model_upload import (\n",
    "    instantiate_s3_client, get_target_object_name, upload_model_package)"
   ]
  },
  {
   "attachments": {},
   "cell_type": "markdown",
   "id": "6dca705b-aa5f-427c-aa78-32925eebcd59",
   "metadata": {},
   "source": [
    "### 顔認識モデルの学習\n",
    "\n",
    "画像ファイル(.jpg)をロードします。(./model-training-pipeline/face-images配下)"
   ]
  },
  {
   "cell_type": "code",
   "execution_count": null,
   "id": "f0867361-4334-4cd0-8b01-5d6990095304",
   "metadata": {},
   "outputs": [],
   "source": [
    "image_names, image_file_paths = scan_images_folder()"
   ]
  },
  {
   "attachments": {},
   "cell_type": "markdown",
   "id": "4be810ae-6095-489d-8420-a745291070e6",
   "metadata": {},
   "source": [
    "画像ファイルをエンコード"
   ]
  },
  {
   "cell_type": "code",
   "execution_count": null,
   "id": "997ee50a-8c14-48a9-b72c-a8e1873dc735",
   "metadata": {},
   "outputs": [],
   "source": [
    "encodings = load_and_encode(image_file_paths)\n",
    "# print(f'face encodings: {encodings}')"
   ]
  },
  {
   "attachments": {},
   "cell_type": "markdown",
   "id": "7d70eef3-38c7-4f9f-aae5-85d352536918",
   "metadata": {},
   "source": [
    "モデルとメタデータをパッケージング"
   ]
  },
  {
   "cell_type": "code",
   "execution_count": null,
   "id": "7516e1c6-b95b-4409-8b85-0955a8dd4a9b",
   "metadata": {
    "tags": []
   },
   "outputs": [],
   "source": [
    "model_package = package(encodings, image_names)\n",
    "# print(f'model package: {model_package}')"
   ]
  },
  {
   "attachments": {},
   "cell_type": "markdown",
   "id": "8e3eb3d3-fe0c-4959-852c-faf5a50c3782",
   "metadata": {},
   "source": [
    "パッケージをシリアル化"
   ]
  },
  {
   "cell_type": "code",
   "execution_count": null,
   "id": "3038a113-0f85-4a26-9704-22053d88fb4d",
   "metadata": {},
   "outputs": [],
   "source": [
    "dump_model_package(model_package)"
   ]
  },
  {
   "attachments": {},
   "cell_type": "markdown",
   "id": "995a009a-1c91-4ac9-87b1-94cc79fdc64a",
   "metadata": {},
   "source": [
    "### S3へモデルのアップロード\n",
    "指定されたS3設定を使用し、モデルをアップロードします。"
   ]
  },
  {
   "cell_type": "code",
   "execution_count": null,
   "id": "84c983e0-c14c-4255-900c-d6f29928be84",
   "metadata": {},
   "outputs": [],
   "source": [
    "s3_client = instantiate_s3_client()\n",
    "print(f'S3 client: {s3_client}')"
   ]
  },
  {
   "attachments": {},
   "cell_type": "markdown",
   "id": "bea3b593-c56a-46a8-8db9-4b56bacb9dd8",
   "metadata": {},
   "source": [
    "現在時刻を名前に含むS3オブジェクトを作成"
   ]
  },
  {
   "cell_type": "code",
   "execution_count": null,
   "id": "6df6686b-070b-43f1-bdd2-7b222618c371",
   "metadata": {},
   "outputs": [],
   "source": [
    "target_object_name = get_target_object_name()\n",
    "print(f'target object name: {target_object_name}')"
   ]
  },
  {
   "attachments": {},
   "cell_type": "markdown",
   "id": "a66b3201-0a1b-493b-a10a-344348e771ca",
   "metadata": {},
   "source": [
    "S3へモデルをアップロード"
   ]
  },
  {
   "cell_type": "code",
   "execution_count": null,
   "id": "eac6b547-2fff-4990-8c5f-5522ba0e729f",
   "metadata": {},
   "outputs": [],
   "source": [
    "upload_model_package(s3_client, target_object_name)\n",
    "print('Done.')"
   ]
  },
  {
   "attachments": {},
   "cell_type": "markdown",
   "id": "1a466cb5-e6b5-430a-bea2-e55c7f115a61",
   "metadata": {},
   "source": [
    "### シリアル化されたモデルのテスト"
   ]
  },
  {
   "cell_type": "code",
   "execution_count": null,
   "id": "c33b9856-67a5-42b9-9804-bf6f05744a95",
   "metadata": {
    "tags": []
   },
   "outputs": [],
   "source": [
    "from pickle import load\n",
    "\n",
    "\n",
    "with open('model.data', 'rb') as inputfile:\n",
    "    loaded_models = load(inputfile)\n",
    "\n",
    "print(loaded_models)"
   ]
  },
  {
   "cell_type": "code",
   "execution_count": null,
   "id": "23d4d63a-5a7e-4550-99d9-3e51da3ac66d",
   "metadata": {},
   "outputs": [],
   "source": []
  }
 ],
 "metadata": {
  "kernelspec": {
   "display_name": "Python 3 (ipykernel)",
   "language": "python",
   "name": "python3"
  },
  "language_info": {
   "codemirror_mode": {
    "name": "ipython",
    "version": 3
   },
   "file_extension": ".py",
   "mimetype": "text/x-python",
   "name": "python",
   "nbconvert_exporter": "python",
   "pygments_lexer": "ipython3",
   "version": "3.8.13"
  }
 },
 "nbformat": 4,
 "nbformat_minor": 5
}
